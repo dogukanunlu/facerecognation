{
 "cells": [
  {
   "cell_type": "code",
   "execution_count": null,
   "metadata": {},
   "outputs": [],
   "source": [
    "import os\n",
    "from joblib import load\n",
    "from tensorflow.keras.models import load_model\n",
    "import matplotlib.pyplot as plt\n",
    "import numpy as np\n",
    "from sklearn.metrics import confusion_matrix, classification_report\n",
    "import itertools\n",
    "\n",
    "\n",
    "# Helper functions for data preprocessing and feature extraction\n",
    "from methods.preprocessing import *\n",
    "from methods.image_enhancement import *\n",
    "\n",
    "# Machine Learning models and utilities\n",
    "from methods.ml import *\n",
    "\n",
    "# CNN models and utilities\n",
    "from methods.cnn import *\n",
    "\n",
    "import shutil\n",
    "from pathlib import Path\n",
    "\n",
    "\n",
    "from sklearn.metrics import confusion_matrix, classification_report\n",
    "import seaborn as sns\n",
    "from sklearn.model_selection import cross_val_score"
   ]
  },
  {
   "cell_type": "code",
   "execution_count": null,
   "metadata": {},
   "outputs": [],
   "source": [
    "# Define the source and destination directories\n",
    "source_directory = Path('train')\n",
    "destination_directory = Path('small_train')\n",
    "\n",
    "# Make sure the destination directory exists\n",
    "destination_directory.mkdir(parents=True, exist_ok=True)\n",
    "\n",
    "# Factor to reduce by; keeping every nth file\n",
    "n = 6\n",
    "\n",
    "# Process each subclass folder in the source directory\n",
    "for subclass_folder in source_directory.iterdir():\n",
    "    if subclass_folder.is_dir():\n",
    "        # Create a corresponding folder in the destination directory\n",
    "        dest_subclass_folder = destination_directory / subclass_folder.name\n",
    "        dest_subclass_folder.mkdir(exist_ok=True)\n",
    "        \n",
    "        # List all files in the subclass folder\n",
    "        files = list(subclass_folder.glob('*'))  # Adjust the pattern as needed\n",
    "        \n",
    "        # Select every nth file\n",
    "        selected_files = files[::n]\n",
    "        \n",
    "        # Copy selected files to the new folder\n",
    "        for file in selected_files:\n",
    "            shutil.copy(file, dest_subclass_folder)\n",
    "\n",
    "print(\"Data has been downsampled and copied.\")\n"
   ]
  },
  {
   "cell_type": "code",
   "execution_count": null,
   "metadata": {},
   "outputs": [],
   "source": [
    "test_dir = \"small_train\"\n"
   ]
  },
  {
   "cell_type": "code",
   "execution_count": null,
   "metadata": {},
   "outputs": [],
   "source": [
    "data_gen = create_data_gen()\n",
    "train_generator = data_gen.flow_from_directory(\n",
    "    test_dir,\n",
    "    target_size=(48, 48),\n",
    "    color_mode=\"grayscale\",\n",
    "    batch_size=32,\n",
    "    class_mode=\"categorical\"\n",
    ")\n",
    "\n",
    "train_vgg_generator = data_gen.flow_from_directory(\n",
    "    test_dir,\n",
    "    target_size=(224, 224),\n",
    "    color_mode=\"rgb\",\n",
    "    batch_size=32,\n",
    "    class_mode=\"categorical\"\n",
    ")"
   ]
  },
  {
   "cell_type": "code",
   "execution_count": null,
   "metadata": {},
   "outputs": [],
   "source": [
    "cnn_model = cnn()\n",
    "cnn_model.train(train_generator, epochs=50)\n",
    "\n",
    "# Use Keras's built-in save function\n",
    "model_path = \"cnn_model.h5\"  # Models are typically saved as .h5 files\n",
    "cnn_model.model.save(model_path)"
   ]
  },
  {
   "cell_type": "code",
   "execution_count": null,
   "metadata": {},
   "outputs": [],
   "source": [
    "cnn_vgg_model = cnn_vgg()\n",
    "cnn_vgg_model.train(train_vgg_generator, epochs=50)\n",
    "\n",
    "# Use Keras's built-in save function\n",
    "model_path = \"cnn_vgg_model.h5\"  # Models are typically saved as .h5 files\n",
    "cnn_vgg_model.model.save(model_path)"
   ]
  },
  {
   "cell_type": "code",
   "execution_count": null,
   "metadata": {},
   "outputs": [],
   "source": [
    "cnn_improved_vgg_model = cnn_improved_vgg()\n",
    "cnn_improved_vgg_model.train(train_vgg_generator, epochs=50)\n",
    "\n",
    "# Use Keras's built-in save function\n",
    "model_path = \"cnn_vgg_model.h5\"  # Models are typically saved as .h5 files\n",
    "cnn_vgg_model.model.save(model_path)"
   ]
  },
  {
   "cell_type": "code",
   "execution_count": null,
   "metadata": {},
   "outputs": [],
   "source": [
    "cnn_resnet_model = cnn_resnet()\n",
    "cnn_resnet_model.train(train_vgg_generator, epochs=50)\n",
    "\n",
    "# Use Keras's built-in save function\n",
    "model_path = \"cnn_resnet_model.h5\"  # Models are typically saved as .h5 files\n",
    "cnn_resnet_model.model.save(model_path)"
   ]
  }
 ],
 "metadata": {
  "language_info": {
   "name": "python"
  }
 },
 "nbformat": 4,
 "nbformat_minor": 2
}
