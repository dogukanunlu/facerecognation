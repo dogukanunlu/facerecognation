{
 "cells": [
  {
   "cell_type": "code",
   "execution_count": 1,
   "metadata": {},
   "outputs": [],
   "source": [
    "import os\n",
    "from joblib import load\n",
    "from tensorflow.keras.models import load_model\n",
    "\n",
    "# Helper functions for data preprocessing and feature extraction\n",
    "from methods.preprocessing import *\n",
    "from methods.image_enhancement import *\n",
    "\n",
    "# Machine Learning models and utilities\n",
    "from methods.ml import *\n",
    "\n",
    "# CNN models and utilities\n",
    "from methods.cnn import *\n",
    "\n",
    "from sklearn.metrics import confusion_matrix, classification_report\n",
    "import seaborn as sns\n",
    "from sklearn.model_selection import cross_val_score"
   ]
  },
  {
   "cell_type": "code",
   "execution_count": 2,
   "metadata": {},
   "outputs": [
    {
     "data": {
      "image/png": "[encoded data removed]",
      "text/plain": [
       "<Figure size 640x480 with 1 Axes>"
      ]
     },
     "metadata": {},
     "output_type": "display_data"
    }
   ],
   "source": [
    "test_image = \"/Users/dogukan/Developer/facerecognation/data/fer-2013-dataset/test/sad/PrivateTest_687119.jpg\"\n",
    "image = cv2.imread(test_image, cv2.IMREAD_GRAYSCALE)\n",
    "image_resized = cv2.resize(image, (48, 48))\n",
    "\n",
    "image_expanded = np.expand_dims(image_resized, axis=[0, -1])\n",
    "\n",
    "show_image_as_plot(image=image)\n",
    "\n",
    "\n",
    "sift_img, _= sift_creator(image=image)\n",
    "sift_features_train = extract_sift_features(image)"
   ]
  },
  {
   "cell_type": "code",
   "execution_count": 3,
   "metadata": {},
   "outputs": [
    {
     "name": "stdout",
     "output_type": "stream",
     "text": [
      "Predicted Label (numeric): surprise\n",
      " \n"
     ]
    }
   ],
   "source": [
    "\n",
    "# Extract features (use the actual functions you have for SIFT/HOG extraction)\n",
    "single_image_features_sift = extract_sift_features([image])  # Make sure it's in a list to match your extraction function's expected input\n",
    "single_image_features = np.array(single_image_features_sift)  # Assuming this matches your model's expected input format\n",
    "\n",
    "knn_classifier_sift = load(\"knn_classifier_sift.joblib\")\n",
    "# Predict the emotion for the single image (assuming you have its real label)\n",
    "real_label = 0  # For example, 0 corresponds to 'angry' in your mapping\n",
    "output_message = knn_classifier_sift.predict_single_image(single_image_features, real_label)\n",
    "\n",
    "print(output_message)"
   ]
  },
  {
   "cell_type": "code",
   "execution_count": 4,
   "metadata": {},
   "outputs": [
    {
     "name": "stdout",
     "output_type": "stream",
     "text": [
      "Predicted Label (numeric): happy\n",
      " \n"
     ]
    }
   ],
   "source": [
    "# Extract features (use the actual functions you have for SIFT/HOG extraction)\n",
    "single_image_features_sift = extract_sift_features([image])  # Make sure it's in a list to match your extraction function's expected input\n",
    "single_image_features = np.array(single_image_features_sift)  # Assuming this matches your model's expected input format\n",
    "\n",
    "rf_classifier_sift = load(\"rf_classifier_sift.joblib\")\n",
    "# Predict the emotion for the single image (assuming you have its real label)\n",
    "real_label = 0  # For example, 0 corresponds to 'angry' in your mapping\n",
    "output_message = rf_classifier_sift.predict_single_image(single_image_features, real_label)\n",
    "\n",
    "print(output_message)"
   ]
  },
  {
   "cell_type": "code",
   "execution_count": 5,
   "metadata": {},
   "outputs": [
    {
     "name": "stderr",
     "output_type": "stream",
     "text": [
      "WARNING:absl:Compiled the loaded model, but the compiled metrics have yet to be built. `model.compile_metrics` will be empty until you train or evaluate the model.\n"
     ]
    },
    {
     "ename": "AttributeError",
     "evalue": "'Sequential' object has no attribute 'predict_single_image'",
     "output_type": "error",
     "traceback": [
      "\u001b[0;31m---------------------------------------------------------------------------\u001b[0m",
      "\u001b[0;31mAttributeError\u001b[0m                            Traceback (most recent call last)",
      "Cell \u001b[0;32mIn[5], line 2\u001b[0m\n\u001b[1;32m      1\u001b[0m cnn_model \u001b[38;5;241m=\u001b[39m load_model(\u001b[38;5;124m\"\u001b[39m\u001b[38;5;124mcnn_model.h5\u001b[39m\u001b[38;5;124m\"\u001b[39m)\n\u001b[0;32m----> 2\u001b[0m predicted_emotion \u001b[38;5;241m=\u001b[39m \u001b[43mcnn_model\u001b[49m\u001b[38;5;241;43m.\u001b[39;49m\u001b[43mpredict_single_image\u001b[49m(image_expanded)\n\u001b[1;32m      3\u001b[0m \u001b[38;5;28mprint\u001b[39m(\u001b[38;5;124m\"\u001b[39m\u001b[38;5;124mPredicted Emotion:\u001b[39m\u001b[38;5;124m\"\u001b[39m, predicted_emotion)\n",
      "\u001b[0;31mAttributeError\u001b[0m: 'Sequential' object has no attribute 'predict_single_image'"
     ]
    }
   ],
   "source": [
    "cnn_model = load_model(\"cnn_model.h5\")\n",
    "predicted_emotion = cnn_model.predict_single_image(image_expanded)\n",
    "print(\"Predicted Emotion:\", predicted_emotion)"
   ]
  }
 ],
 "metadata": {
  "kernelspec": {
   "display_name": "fer",
   "language": "python",
   "name": "python3"
  },
  "language_info": {
   "codemirror_mode": {
    "name": "ipython",
    "version": 3
   },
   "file_extension": ".py",
   "mimetype": "text/x-python",
   "name": "python",
   "nbconvert_exporter": "python",
   "pygments_lexer": "ipython3",
   "version": "3.12.2"
  }
 },
 "nbformat": 4,
 "nbformat_minor": 2
}
