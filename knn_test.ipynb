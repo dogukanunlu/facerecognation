{
 "cells": [
  {
   "cell_type": "code",
   "execution_count": 14,
   "metadata": {},
   "outputs": [],
   "source": [
    "import os\n",
    "from joblib import load\n",
    "\n",
    "from methods.preprocessing import *\n",
    "from methods.extract_features import *\n",
    "from sklearn.metrics import confusion_matrix, classification_report"
   ]
  },
  {
   "cell_type": "code",
   "execution_count": 2,
   "metadata": {},
   "outputs": [
    {
     "name": "stdout",
     "output_type": "stream",
     "text": [
      "There are 7 directories and 0 images in test\n",
      "There are 0 directories and 958 images in test\\angry\n",
      "There are 0 directories and 111 images in test\\disgust\n",
      "There are 0 directories and 1024 images in test\\fear\n",
      "There are 0 directories and 1774 images in test\\happy\n",
      "There are 0 directories and 1233 images in test\\neutral\n",
      "There are 0 directories and 1247 images in test\\sad\n",
      "There are 0 directories and 831 images in test\\surprise\n"
     ]
    }
   ],
   "source": [
    "test_dir = \"../data/fer-2013-data/test\"\n",
    "for dirpath,dirname,filenames in os.walk(test_dir):\n",
    "    print(f\"There are {len(dirname)} directories and {len(filenames)} images in {dirpath[22:]}\")"
   ]
  },
  {
   "cell_type": "code",
   "execution_count": 3,
   "metadata": {},
   "outputs": [
    {
     "name": "stdout",
     "output_type": "stream",
     "text": [
      "X_test shape: (7067, 48, 48)\n",
      "y_test shape: (7067,)\n"
     ]
    }
   ],
   "source": [
    "X_test, y_test = load_dataset(test_dir)\n",
    "# Flatten the test data for the basic classifier\n",
    "X_test_flattened = X_test.reshape(X_test.shape[0], -1)\n",
    "\n",
    "print(\"X_test shape:\", X_test.shape)\n",
    "print(\"y_test shape:\", y_test.shape)"
   ]
  },
  {
   "cell_type": "code",
   "execution_count": 4,
   "metadata": {},
   "outputs": [],
   "source": [
    "def get_test_features(X_test, feature_method):\n",
    "    if feature_method == \"LBP\":\n",
    "        X_test_features = extract_features_lbp(images=X_test)\n",
    "    elif feature_method == \"HOG\":\n",
    "        X_test_features = extract_features_hog(images=X_test)\n",
    "    elif feature_method == \"combined\":\n",
    "        X_test_features = extract_combined_features(images=X_test)\n",
    "    \n",
    "    return X_test_features"
   ]
  },
  {
   "cell_type": "code",
   "execution_count": 5,
   "metadata": {},
   "outputs": [],
   "source": [
    "# Load the trained classifiers\n",
    "knn_classifier_basic = load(\"joblib/knn_classifier_basic.joblib\")\n",
    "knn_classifier_lbp = load(\"joblib/knn_classifier_lbp.joblib\")\n",
    "knn_classifier_hog = load(\"joblib/knn_classifier_hog.joblib\")\n",
    "knn_classifier_combined = load(\"joblib/knn_classifier_combined.joblib\")"
   ]
  },
  {
   "cell_type": "code",
   "execution_count": 15,
   "metadata": {},
   "outputs": [
    {
     "name": "stdout",
     "output_type": "stream",
     "text": [
      "kNN Accuracy:  0.3287109098627423\n",
      "              precision    recall  f1-score   support\n",
      "\n",
      "           0       0.23      0.37      0.28       958\n",
      "           1       0.27      0.37      0.31      1024\n",
      "           2       0.42      0.32      0.36      1774\n",
      "           3       0.29      0.36      0.32      1233\n",
      "           4       0.35      0.19      0.25      1247\n",
      "           5       0.59      0.42      0.49       831\n",
      "\n",
      "    accuracy                           0.33      7067\n",
      "   macro avg       0.36      0.34      0.34      7067\n",
      "weighted avg       0.36      0.33      0.33      7067\n",
      "\n"
     ]
    }
   ],
   "source": [
    "accuracy, predictions = knn_classifier_basic.evaluate(X_test_flattened, y_test)\n",
    "print(classification_report(y_true=y_test, y_pred=predictions))"
   ]
  },
  {
   "cell_type": "code",
   "execution_count": 17,
   "metadata": {},
   "outputs": [
    {
     "name": "stdout",
     "output_type": "stream",
     "text": [
      "kNN Accuracy:  0.24126220461298994\n",
      "              precision    recall  f1-score   support\n",
      "\n",
      "           0       0.19      0.22      0.21       958\n",
      "           1       0.21      0.22      0.21      1024\n",
      "           2       0.30      0.23      0.26      1774\n",
      "           3       0.23      0.25      0.24      1233\n",
      "           4       0.21      0.21      0.21      1247\n",
      "           5       0.32      0.35      0.33       831\n",
      "\n",
      "    accuracy                           0.24      7067\n",
      "   macro avg       0.24      0.25      0.24      7067\n",
      "weighted avg       0.25      0.24      0.24      7067\n",
      "\n"
     ]
    }
   ],
   "source": [
    "X_test_lbp = get_test_features(X_test=X_test, feature_method=\"LBP\")\n",
    "accuracy, predictions = knn_classifier_lbp.evaluate(X_test_lbp, y_test)\n",
    "print(classification_report(y_true=y_test, y_pred=predictions))"
   ]
  },
  {
   "cell_type": "code",
   "execution_count": 18,
   "metadata": {},
   "outputs": [
    {
     "name": "stdout",
     "output_type": "stream",
     "text": [
      "kNN Accuracy:  0.47516626574218196\n",
      "              precision    recall  f1-score   support\n",
      "\n",
      "           0       0.39      0.37      0.38       958\n",
      "           1       0.45      0.42      0.44      1024\n",
      "           2       0.61      0.58      0.59      1774\n",
      "           3       0.37      0.45      0.41      1233\n",
      "           4       0.43      0.35      0.38      1247\n",
      "           5       0.57      0.65      0.61       831\n",
      "\n",
      "    accuracy                           0.48      7067\n",
      "   macro avg       0.47      0.47      0.47      7067\n",
      "weighted avg       0.48      0.48      0.47      7067\n",
      "\n"
     ]
    }
   ],
   "source": [
    "X_test_hog = get_test_features(X_test=X_test, feature_method=\"HOG\")\n",
    "accuracy, predictions = knn_classifier_hog.evaluate(X_test_hog, y_test)\n",
    "print(classification_report(y_true=y_test, y_pred=predictions))"
   ]
  },
  {
   "cell_type": "code",
   "execution_count": 19,
   "metadata": {},
   "outputs": [
    {
     "name": "stdout",
     "output_type": "stream",
     "text": [
      "kNN Accuracy:  0.47516626574218196\n",
      "              precision    recall  f1-score   support\n",
      "\n",
      "           0       0.39      0.37      0.38       958\n",
      "           1       0.45      0.42      0.44      1024\n",
      "           2       0.61      0.58      0.60      1774\n",
      "           3       0.37      0.46      0.41      1233\n",
      "           4       0.43      0.35      0.38      1247\n",
      "           5       0.57      0.65      0.61       831\n",
      "\n",
      "    accuracy                           0.48      7067\n",
      "   macro avg       0.47      0.47      0.47      7067\n",
      "weighted avg       0.48      0.48      0.47      7067\n",
      "\n"
     ]
    }
   ],
   "source": [
    "X_test_combined = get_test_features(X_test=X_test, feature_method=\"combined\")\n",
    "accuracy, predictions = knn_classifier_combined.evaluate(X_test_combined, y_test)\n",
    "print(classification_report(y_true=y_test, y_pred=predictions))"
   ]
  }
 ],
 "metadata": {
  "kernelspec": {
   "display_name": "comp-vision",
   "language": "python",
   "name": "python3"
  },
  "language_info": {
   "codemirror_mode": {
    "name": "ipython",
    "version": 3
   },
   "file_extension": ".py",
   "mimetype": "text/x-python",
   "name": "python",
   "nbconvert_exporter": "python",
   "pygments_lexer": "ipython3",
   "version": "3.12.2"
  }
 },
 "nbformat": 4,
 "nbformat_minor": 2
}
