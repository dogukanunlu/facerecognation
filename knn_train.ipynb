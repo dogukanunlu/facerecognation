{
 "cells": [
  {
   "cell_type": "code",
   "execution_count": 1,
   "metadata": {},
   "outputs": [],
   "source": [
    "import os\n",
    "from sklearn.model_selection import KFold\n",
    "from joblib import dump\n",
    "\n",
    "from methods.preprocessing import *\n",
    "from methods.extract_features import *\n",
    "from methods.ml import *"
   ]
  },
  {
   "cell_type": "code",
   "execution_count": 2,
   "metadata": {},
   "outputs": [
    {
     "name": "stdout",
     "output_type": "stream",
     "text": [
      "There are 7 directories and 0 images in train\n",
      "There are 0 directories and 3995 images in train\\angry\n",
      "There are 0 directories and 436 images in train\\disgust\n",
      "There are 0 directories and 4097 images in train\\fear\n",
      "There are 0 directories and 7215 images in train\\happy\n",
      "There are 0 directories and 4965 images in train\\neutral\n",
      "There are 0 directories and 4830 images in train\\sad\n",
      "There are 0 directories and 3171 images in train\\surprise\n"
     ]
    }
   ],
   "source": [
    "train_dir = \"../data/fer-2013-data/train\"\n",
    "for dirpath,dirname,filenames in os.walk(train_dir):\n",
    "    print(f\"There are {len(dirname)} directories and {len(filenames)} images in {dirpath[22:]}\")"
   ]
  },
  {
   "cell_type": "code",
   "execution_count": 3,
   "metadata": {},
   "outputs": [
    {
     "name": "stdout",
     "output_type": "stream",
     "text": [
      "Improvement on dataset:\n",
      "1-Remove disgust directory\n",
      "2-Limit happy images to 5000\n",
      "\n",
      "X_train shape: (26058, 48, 48)\n",
      "y_train shape: (26058,)\n"
     ]
    }
   ],
   "source": [
    "X_train, y_train = load_dataset(train_dir)\n",
    "\n",
    "print(\"Improvement on dataset:\")\n",
    "print(\"1-Remove disgust directory\")\n",
    "print(\"2-Limit happy images to 5000\\n\")\n",
    "print(\"X_train shape:\", X_train.shape)\n",
    "print(\"y_train shape:\", y_train.shape)"
   ]
  },
  {
   "cell_type": "code",
   "execution_count": 4,
   "metadata": {},
   "outputs": [],
   "source": [
    "knn_classifier_basic = KNNClassifier()\n",
    "knn_classifier_basic.train(X_train=X_train, y_train=y_train)\n",
    "dump(knn_classifier_basic, \"/joblib/knn_classifier_basic.joblib\")"
   ]
  },
  {
   "cell_type": "code",
   "execution_count": null,
   "metadata": {},
   "outputs": [],
   "source": [
    "def find_optimal_k(X, y, feature_method='LBP', max_k=15):\n",
    "    kf = KFold(n_splits=5, shuffle=True, random_state=42)\n",
    "    accuracy_scores = np.zeros(max_k)\n",
    "    knn = None\n",
    "    \n",
    "    for k in range(1, max_k + 1):\n",
    "        print(f\"Evaluating K={k}\")\n",
    "        fold_accuracies = []\n",
    "        for train_index, test_index in kf.split(X):\n",
    "            X_train_fold, X_test_fold = X[train_index], X[test_index]\n",
    "            y_train_fold, y_test_fold = y[train_index], y[test_index]\n",
    "\n",
    "            # Feature extraction\n",
    "            if feature_method == \"LBP\":\n",
    "                X_train_features = extract_features_lbp(X_train_fold, method=feature_method)\n",
    "                X_test_features = extract_features_lbp(X_test_fold, method=feature_method)\n",
    "            elif feature_method == \"HOG\":\n",
    "                X_train_features = extract_features_hog(X_train_fold, method=feature_method)\n",
    "                X_test_features = extract_features_hog(X_test_fold, method=feature_method)\n",
    "            elif feature_method == \"combined\":\n",
    "                X_train_features = extract_combined_features(X_train_fold, method=feature_method)\n",
    "                X_test_features = extract_combined_features(X_test_fold, method=feature_method)            \n",
    "            \n",
    "            # Train and evaluate KNN\n",
    "            knn = KNeighborsClassifier(n_neighbors=k)\n",
    "            knn.fit(X_train_features, y_train_fold)\n",
    "            predictions = knn.predict(X_test_features)\n",
    "            fold_accuracies.append(accuracy_score(y_test_fold, predictions))\n",
    "        \n",
    "        accuracy_scores[k-1] = np.mean(fold_accuracies)\n",
    "    \n",
    "    # Plotting\n",
    "    plt.plot(range(1, max_k + 1), accuracy_scores, marker='o')\n",
    "    plt.xlabel('Number of Neighbors K')\n",
    "    plt.ylabel('Validation Accuracy')\n",
    "    plt.title('KNN Validation Accuracy for Different K')\n",
    "    plt.show()\n",
    "    \n",
    "    # Return the optimal K (highest accuracy)\n",
    "    optimal_k = np.argmax(accuracy_scores) + 1\n",
    "    print(f\"Optimal K Value: {optimal_k} with Accuracy: {accuracy_scores[optimal_k-1]}\")\n",
    "    return optimal_k, knn"
   ]
  },
  {
   "cell_type": "code",
   "execution_count": null,
   "metadata": {},
   "outputs": [],
   "source": [
    "optimal_k, knn_classifier_lbp = find_optimal_k(X_train, y_train, feature_method='LBP', max_k=15)\n",
    "print(\"LBP optimal k:\", optimal_k)\n",
    "dump(knn_classifier_lbp, \"/joblib/knn_classifier_lbp.joblib\")"
   ]
  },
  {
   "cell_type": "code",
   "execution_count": null,
   "metadata": {},
   "outputs": [],
   "source": [
    "optimal_k, knn_classifier_hog = find_optimal_k(X_train, y_train, feature_method='HOG', max_k=15)\n",
    "print(\"HOG optimal k:\", optimal_k)\n",
    "dump(knn_classifier_hog, \"/joblib/knn_classifier_hog.joblib\")"
   ]
  },
  {
   "cell_type": "code",
   "execution_count": 4,
   "metadata": {},
   "outputs": [],
   "source": [
    "optimal_k, knn_classifier_combined = find_optimal_k(X_train, y_train, feature_method='combined', max_k=15)\n",
    "print(\"Combined optimal k:\", optimal_k)\n",
    "dump(knn_classifier_combined, \"/joblib/knn_classifier_combined.joblib\")"
   ]
  }
 ],
 "metadata": {
  "kernelspec": {
   "display_name": "comp-vision",
   "language": "python",
   "name": "python3"
  },
  "language_info": {
   "codemirror_mode": {
    "name": "ipython",
    "version": 3
   },
   "file_extension": ".py",
   "mimetype": "text/x-python",
   "name": "python",
   "nbconvert_exporter": "python",
   "pygments_lexer": "ipython3",
   "version": "3.12.2"
  }
 },
 "nbformat": 4,
 "nbformat_minor": 2
}
