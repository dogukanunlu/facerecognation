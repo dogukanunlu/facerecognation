{
 "cells": [
  {
   "cell_type": "code",
   "execution_count": 1,
   "metadata": {},
   "outputs": [],
   "source": [
    "import os\n",
    "from joblib import load\n",
    "\n",
    "from methods.preprocessing import *\n",
    "from methods.extract_features import *\n",
    "from sklearn.metrics import confusion_matrix, classification_report\n",
    "from methods.image_enhancement import apply_pca"
   ]
  },
  {
   "cell_type": "code",
   "execution_count": 2,
   "metadata": {},
   "outputs": [
    {
     "name": "stdout",
     "output_type": "stream",
     "text": [
      "There are 7 directories and 0 images in test\n",
      "There are 0 directories and 958 images in test\\angry\n",
      "There are 0 directories and 111 images in test\\disgust\n",
      "There are 0 directories and 1024 images in test\\fear\n",
      "There are 0 directories and 1774 images in test\\happy\n",
      "There are 0 directories and 1233 images in test\\neutral\n",
      "There are 0 directories and 1247 images in test\\sad\n",
      "There are 0 directories and 831 images in test\\surprise\n"
     ]
    }
   ],
   "source": [
    "test_dir = \"../data/fer-2013-data/test\"\n",
    "for dirpath,dirname,filenames in os.walk(test_dir):\n",
    "    print(f\"There are {len(dirname)} directories and {len(filenames)} images in {dirpath[22:]}\")"
   ]
  },
  {
   "cell_type": "code",
   "execution_count": 3,
   "metadata": {},
   "outputs": [
    {
     "name": "stdout",
     "output_type": "stream",
     "text": [
      "X_test shape: (7067, 48, 48)\n",
      "y_test shape: (7067,)\n"
     ]
    }
   ],
   "source": [
    "X_test, y_test = load_dataset(test_dir)\n",
    "# Flatten the test data for the basic classifier\n",
    "X_test_flattened = X_test.reshape(X_test.shape[0], -1)\n",
    "\n",
    "print(\"X_test shape:\", X_test.shape)\n",
    "print(\"y_test shape:\", y_test.shape)"
   ]
  },
  {
   "cell_type": "code",
   "execution_count": 4,
   "metadata": {},
   "outputs": [],
   "source": [
    "def get_test_features(X_test, feature_method):\n",
    "    if feature_method == \"LBP\":\n",
    "        X_test_features = extract_features_lbp(images=X_test)\n",
    "    elif feature_method == \"HOG\":\n",
    "        X_test_features = extract_features_hog(images=X_test)\n",
    "    elif feature_method == \"combined\":\n",
    "        X_test_features = extract_combined_features(images=X_test)\n",
    "    \n",
    "    return X_test_features"
   ]
  },
  {
   "cell_type": "code",
   "execution_count": null,
   "metadata": {},
   "outputs": [],
   "source": [
    "# Load the trained classifiers\n",
    "rf_classifier_lbp = load(\"joblib/rf_classifier_lbp.joblib\")\n",
    "rf_classifier_hog = load(\"joblib/rf_classifier_hog.joblib\")\n",
    "rf_classifier_lbp_pca = load(\"joblib/rf_classifier_lbp_pca.joblib\")\n",
    "rf_classifier_hog_pca = load(\"joblib/rf_classifier_hog_pca.joblib\")"
   ]
  },
  {
   "cell_type": "code",
   "execution_count": null,
   "metadata": {},
   "outputs": [],
   "source": [
    "X_test_lbp = get_test_features(X_test=X_test, feature_method=\"LBP\")\n",
    "accuracy, predictions = rf_classifier_lbp.evaluate(X_test_lbp, y_test)\n",
    "print(classification_report(y_true=y_test, y_pred=predictions))"
   ]
  },
  {
   "cell_type": "code",
   "execution_count": null,
   "metadata": {},
   "outputs": [],
   "source": [
    "X_test_hog = get_test_features(X_test=X_test, feature_method=\"HOG\")\n",
    "accuracy, predictions = rf_classifier_hog.evaluate(X_test_hog, y_test)\n",
    "print(classification_report(y_true=y_test, y_pred=predictions))"
   ]
  },
  {
   "cell_type": "code",
   "execution_count": null,
   "metadata": {},
   "outputs": [],
   "source": [
    "X_pca_lbp, _ = apply_pca(X_test_lbp)\n",
    "accuracy, predictions = rf_classifier_lbp_pca.evaluate(X_pca_lbp, y_test)\n",
    "print(classification_report(y_true=y_test, y_pred=predictions))"
   ]
  },
  {
   "cell_type": "code",
   "execution_count": null,
   "metadata": {},
   "outputs": [],
   "source": [
    "X_pca_hog, _ = apply_pca(X_test_hog)\n",
    "accuracy, predictions = rf_classifier_hog_pca.evaluate(X_pca_hog, y_test)\n",
    "print(classification_report(y_true=y_test, y_pred=predictions))"
   ]
  }
 ],
 "metadata": {
  "kernelspec": {
   "display_name": "comp-vision",
   "language": "python",
   "name": "python3"
  },
  "language_info": {
   "codemirror_mode": {
    "name": "ipython",
    "version": 3
   },
   "file_extension": ".py",
   "mimetype": "text/x-python",
   "name": "python",
   "nbconvert_exporter": "python",
   "pygments_lexer": "ipython3",
   "version": "3.12.2"
  }
 },
 "nbformat": 4,
 "nbformat_minor": 2
}
