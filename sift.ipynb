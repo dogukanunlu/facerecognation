{
 "cells": [
  {
   "cell_type": "code",
   "execution_count": 10,
   "metadata": {},
   "outputs": [],
   "source": [
    "# Import necessary libraries\n",
    "import numpy as np\n",
    "import cv2\n",
    "import os\n",
    "from scipy.spatial.distance import cdist\n",
    "\n",
    "# Import custom functions\n",
    "from methods.preprocessing import load_dataset\n",
    "from methods.extract_features import extract_features_sift\n",
    "from sklearn.metrics import confusion_matrix, classification_report"
   ]
  },
  {
   "cell_type": "code",
   "execution_count": 2,
   "metadata": {},
   "outputs": [],
   "source": [
    "def classify_with_sift(train_features, test_features, train_labels):\n",
    "    predictions = []\n",
    "    for test_feature in test_features:\n",
    "        if test_feature is not None:\n",
    "            # Compute distances between the test feature and all train features\n",
    "            distances = np.array([cdist([test_feature], [train_feature], 'euclidean') if train_feature is not None else np.inf for train_feature in train_features])\n",
    "            # Find the nearest neighbor\n",
    "            nearest_index = np.argmin(distances)\n",
    "            predictions.append(train_labels[nearest_index])\n",
    "        else:\n",
    "            # Handle cases with no SIFT features detected\n",
    "            predictions.append(-1)  # Undefined or majority class\n",
    "    return predictions"
   ]
  },
  {
   "cell_type": "code",
   "execution_count": 3,
   "metadata": {},
   "outputs": [],
   "source": [
    "# Step 1: Load the dataset\n",
    "train_dir = \"../data/fer-2013-data/train\"\n",
    "X_train, y_train = load_dataset(train_dir)"
   ]
  },
  {
   "cell_type": "code",
   "execution_count": 4,
   "metadata": {},
   "outputs": [],
   "source": [
    "# Step 2: Extract SIFT features for training data\n",
    "X_train_sift = extract_features_sift(images=X_train)"
   ]
  },
  {
   "cell_type": "code",
   "execution_count": 5,
   "metadata": {},
   "outputs": [],
   "source": [
    "# Step 3: Load and prepare the test dataset similarly\n",
    "test_dir = \"../data/fer-2013-data/test\"\n",
    "X_test, y_test = load_dataset(test_dir)"
   ]
  },
  {
   "cell_type": "code",
   "execution_count": 6,
   "metadata": {},
   "outputs": [],
   "source": [
    "# Step 4: Extract SIFT features for testing data\n",
    "X_test_sift = extract_features_sift(images=X_test)"
   ]
  },
  {
   "cell_type": "code",
   "execution_count": 7,
   "metadata": {},
   "outputs": [],
   "source": [
    "# Step 5: Classify test images using the nearest neighbor approach\n",
    "predictions = classify_with_sift(X_train_sift, X_test_sift, y_train)"
   ]
  },
  {
   "cell_type": "code",
   "execution_count": 8,
   "metadata": {},
   "outputs": [],
   "source": [
    "# Step 6: Calculate the accuracy manually\n",
    "correct_predictions = sum(1 for true, pred in zip(y_test, predictions) if true == pred and pred != -1)\n",
    "total_predictions = sum(1 for pred in predictions if pred != -1)\n",
    "accuracy = correct_predictions / total_predictions"
   ]
  },
  {
   "cell_type": "code",
   "execution_count": 11,
   "metadata": {},
   "outputs": [
    {
     "name": "stdout",
     "output_type": "stream",
     "text": [
      "SIFT Euclidian Classification Accuracy:  0.3403141361256545\n",
      "              precision    recall  f1-score   support\n",
      "\n",
      "           0       0.27      0.33      0.30       958\n",
      "           1       0.33      0.39      0.35      1024\n",
      "           2       0.39      0.29      0.33      1774\n",
      "           3       0.31      0.27      0.29      1233\n",
      "           4       0.31      0.30      0.31      1247\n",
      "           5       0.44      0.57      0.50       831\n",
      "\n",
      "    accuracy                           0.34      7067\n",
      "   macro avg       0.34      0.36      0.35      7067\n",
      "weighted avg       0.34      0.34      0.34      7067\n",
      "\n"
     ]
    }
   ],
   "source": [
    "print(\"SIFT Euclidian Classification Accuracy: \", accuracy)\n",
    "print(classification_report(y_true=y_test, y_pred=predictions))"
   ]
  }
 ],
 "metadata": {
  "kernelspec": {
   "display_name": "comp-vision",
   "language": "python",
   "name": "python3"
  },
  "language_info": {
   "codemirror_mode": {
    "name": "ipython",
    "version": 3
   },
   "file_extension": ".py",
   "mimetype": "text/x-python",
   "name": "python",
   "nbconvert_exporter": "python",
   "pygments_lexer": "ipython3",
   "version": "3.12.2"
  }
 },
 "nbformat": 4,
 "nbformat_minor": 2
}
